version https://git-lfs.github.com/spec/v1
oid sha256:6712140a809404d8a9c28be52b5af03a01d720dcf340e07e4d17ae0fedbc3625
size 62794
