version https://git-lfs.github.com/spec/v1
oid sha256:711a94bc50acdaa003353ec610fc714287c1c418111d1dc5718930bd10b673b5
size 21682
