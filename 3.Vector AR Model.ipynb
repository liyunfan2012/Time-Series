version https://git-lfs.github.com/spec/v1
oid sha256:24dd094a751e79f3bb27b80f8cbeecc6842e056eff478a564ae43ae07313abf6
size 141578
